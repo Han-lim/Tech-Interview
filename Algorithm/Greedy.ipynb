{
 "cells": [
  {
   "cell_type": "code",
   "execution_count": 1,
   "metadata": {},
   "outputs": [
    {
     "name": "stdout",
     "output_type": "stream",
     "text": [
      "4\n",
      "2 4\n",
      "1 4\n",
      "6 8\n",
      "3 6\n",
      "2\n"
     ]
    }
   ],
   "source": [
    "#1931\n",
    "num = int(input())\n",
    "board = [[0 for i in range(2)] for j in range(num)]\n",
    "\n",
    "for i in range(num):\n",
    "    board[i] = list(map(int, input().split()))\n",
    "board.sort(key=lambda x:(x[1], x[0]))\n",
    "\n",
    "\n",
    "last_activity = board[0][1]\n",
    "count=1\n",
    "for i in range(1, num):\n",
    "    if (board[i][0] >= last_activity):\n",
    "        count+=1\n",
    "        last_activity = board[i][1]\n",
    "print(count)"
   ]
  },
  {
   "cell_type": "code",
   "execution_count": 23,
   "metadata": {},
   "outputs": [
    {
     "name": "stdout",
     "output_type": "stream",
     "text": [
      "10 4200\n",
      "1\n",
      "5\n",
      "10\n",
      "50\n",
      "100\n",
      "500\n",
      "1000\n",
      "5000\n",
      "10000\n",
      "50000\n",
      "6\n"
     ]
    }
   ],
   "source": [
    "# 11047\n",
    "N, K = map(int, input().split())\n",
    "coin = []\n",
    "for i in range(N):\n",
    "    c = int(input())\n",
    "    coin.append(c)\n",
    "coin = coin[::-1]\n",
    "count = 0\n",
    "\n",
    "remain = K\n",
    "for c in coin:\n",
    "    if (c > K):\n",
    "        continue\n",
    "    need = remain//c\n",
    "    count += need\n",
    "    remain = remain % c\n",
    "    \n",
    "    if (remain == 0 ):\n",
    "        break\n",
    "        \n",
    "print(count)"
   ]
  },
  {
   "cell_type": "code",
   "execution_count": 30,
   "metadata": {},
   "outputs": [
    {
     "name": "stdout",
     "output_type": "stream",
     "text": [
      "5\n",
      "3 1 4 3 2\n",
      "[1, 2, 3, 3, 4]\n",
      "32\n"
     ]
    }
   ],
   "source": [
    "# 11399\n",
    "N = int(input())\n",
    "P = list(map(int, input().split()))\n",
    "P.sort()\n",
    "total=[]\n",
    "\n",
    "tot = 0\n",
    "total = 0\n",
    "for i in P:\n",
    "    tot += i\n",
    "    total += tot\n",
    "print(total)"
   ]
  },
  {
   "cell_type": "code",
   "execution_count": 51,
   "metadata": {},
   "outputs": [
    {
     "name": "stdout",
     "output_type": "stream",
     "text": [
      "55-50+40\n",
      "-35\n"
     ]
    }
   ],
   "source": [
    "# 1541\n",
    "equation = input().split('-')\n",
    "\n",
    "def add_e(e):\n",
    "    e = list(map(int, e.split('+')))\n",
    "    return sum(e)\n",
    "\n",
    "ans = add_e(equation[0])\n",
    "for i in range(1, len(equation)):\n",
    "    es = add_e(equation[i])\n",
    "    ans-=es\n",
    "print(ans)\n",
    "    "
   ]
  },
  {
   "cell_type": "code",
   "execution_count": 71,
   "metadata": {},
   "outputs": [
    {
     "name": "stdout",
     "output_type": "stream",
     "text": [
      "4\n",
      "3 3 4\n",
      "1 1 1 1\n",
      "10\n"
     ]
    }
   ],
   "source": [
    "# 13305\n",
    "N = int(input())\n",
    "dists = list(map(int, input().split()))\n",
    "costs = list(map(int, input().split()))\n",
    "\n",
    "tot= dists[0] * costs[0]\n",
    "min_cost = costs[0]\n",
    "\n",
    "for i in range(1, N-1):\n",
    "    if costs[i] < min_cost:\n",
    "        min_cost = costs[i]\n",
    "    tot += min_cost*dists[i]\n",
    "\n",
    "print(tot)"
   ]
  }
 ],
 "metadata": {
  "kernelspec": {
   "display_name": "Python 3",
   "language": "python",
   "name": "python3"
  },
  "language_info": {
   "codemirror_mode": {
    "name": "ipython",
    "version": 3
   },
   "file_extension": ".py",
   "mimetype": "text/x-python",
   "name": "python",
   "nbconvert_exporter": "python",
   "pygments_lexer": "ipython3",
   "version": "3.7.4"
  }
 },
 "nbformat": 4,
 "nbformat_minor": 2
}
